{
 "cells": [
  {
   "cell_type": "markdown",
   "metadata": {},
   "source": [
    "ЦЕЛЬ: Построить прогнозную модель и посмотреть, какие признаким влияют в большей мере на стоимость квартир."
   ]
  },
  {
   "cell_type": "code",
   "execution_count": 1,
   "metadata": {
    "tags": []
   },
   "outputs": [],
   "source": [
    "import pandas as pd\n",
    "import numpy as np\n",
    "\n",
    "pd.set_option('display.float_format', lambda x: '%.3f' % x)"
   ]
  },
  {
   "cell_type": "markdown",
   "metadata": {},
   "source": [
    "Импортим наш датасет \n"
   ]
  },
  {
   "cell_type": "code",
   "execution_count": 2,
   "metadata": {
    "tags": []
   },
   "outputs": [],
   "source": [
    "df = pd.read_csv('good_all_data.csv')"
   ]
  },
  {
   "cell_type": "code",
   "execution_count": 3,
   "metadata": {
    "tags": []
   },
   "outputs": [],
   "source": [
    "from sklearn.datasets import make_regression\n",
    "from sklearn.linear_model import LinearRegression\n",
    "from sklearn.linear_model import ElasticNet"
   ]
  },
  {
   "cell_type": "code",
   "execution_count": 4,
   "metadata": {},
   "outputs": [
    {
     "data": {
      "text/html": [
       "<div>\n",
       "<style scoped>\n",
       "    .dataframe tbody tr th:only-of-type {\n",
       "        vertical-align: middle;\n",
       "    }\n",
       "\n",
       "    .dataframe tbody tr th {\n",
       "        vertical-align: top;\n",
       "    }\n",
       "\n",
       "    .dataframe thead th {\n",
       "        text-align: right;\n",
       "    }\n",
       "</style>\n",
       "<table border=\"1\" class=\"dataframe\">\n",
       "  <thead>\n",
       "    <tr style=\"text-align: right;\">\n",
       "      <th></th>\n",
       "      <th>Unnamed: 0</th>\n",
       "      <th>locality</th>\n",
       "      <th>rooms</th>\n",
       "      <th>price</th>\n",
       "      <th>total_area</th>\n",
       "      <th>living_area</th>\n",
       "      <th>kitchen_area</th>\n",
       "      <th>floor</th>\n",
       "      <th>floors_total</th>\n",
       "      <th>balcony</th>\n",
       "      <th>...</th>\n",
       "      <th>new_rooms</th>\n",
       "      <th>new_ceiling_height</th>\n",
       "      <th>new_ceiling_height_try</th>\n",
       "      <th>new_total_area</th>\n",
       "      <th>new_days_exposition</th>\n",
       "      <th>too_fast</th>\n",
       "      <th>fast</th>\n",
       "      <th>too_slow</th>\n",
       "      <th>locality_type</th>\n",
       "      <th>spb_and_lr</th>\n",
       "    </tr>\n",
       "  </thead>\n",
       "  <tbody>\n",
       "    <tr>\n",
       "      <th>0</th>\n",
       "      <td>0</td>\n",
       "      <td>Санкт-Петербург</td>\n",
       "      <td>3</td>\n",
       "      <td>13000000.000</td>\n",
       "      <td>108.000</td>\n",
       "      <td>51.000</td>\n",
       "      <td>25.000</td>\n",
       "      <td>8</td>\n",
       "      <td>16.000</td>\n",
       "      <td>0</td>\n",
       "      <td>...</td>\n",
       "      <td>3.000</td>\n",
       "      <td>2.700</td>\n",
       "      <td>2.700</td>\n",
       "      <td>108.000</td>\n",
       "      <td>NaN</td>\n",
       "      <td>False</td>\n",
       "      <td>False</td>\n",
       "      <td>False</td>\n",
       "      <td>город</td>\n",
       "      <td>Санкт-Петербург</td>\n",
       "    </tr>\n",
       "    <tr>\n",
       "      <th>1</th>\n",
       "      <td>1</td>\n",
       "      <td>поселок Шушары</td>\n",
       "      <td>1</td>\n",
       "      <td>3350000.000</td>\n",
       "      <td>40.400</td>\n",
       "      <td>18.600</td>\n",
       "      <td>11.000</td>\n",
       "      <td>1</td>\n",
       "      <td>11.000</td>\n",
       "      <td>2</td>\n",
       "      <td>...</td>\n",
       "      <td>1.000</td>\n",
       "      <td>NaN</td>\n",
       "      <td>NaN</td>\n",
       "      <td>40.400</td>\n",
       "      <td>81.000</td>\n",
       "      <td>False</td>\n",
       "      <td>False</td>\n",
       "      <td>False</td>\n",
       "      <td>поселок</td>\n",
       "      <td>Ленинградская область</td>\n",
       "    </tr>\n",
       "    <tr>\n",
       "      <th>2</th>\n",
       "      <td>2</td>\n",
       "      <td>Санкт-Петербург</td>\n",
       "      <td>2</td>\n",
       "      <td>5196000.000</td>\n",
       "      <td>56.000</td>\n",
       "      <td>34.300</td>\n",
       "      <td>8.300</td>\n",
       "      <td>4</td>\n",
       "      <td>5.000</td>\n",
       "      <td>0</td>\n",
       "      <td>...</td>\n",
       "      <td>2.000</td>\n",
       "      <td>NaN</td>\n",
       "      <td>NaN</td>\n",
       "      <td>56.000</td>\n",
       "      <td>NaN</td>\n",
       "      <td>False</td>\n",
       "      <td>False</td>\n",
       "      <td>True</td>\n",
       "      <td>город</td>\n",
       "      <td>Санкт-Петербург</td>\n",
       "    </tr>\n",
       "    <tr>\n",
       "      <th>3</th>\n",
       "      <td>3</td>\n",
       "      <td>Санкт-Петербург</td>\n",
       "      <td>3</td>\n",
       "      <td>64900000.000</td>\n",
       "      <td>159.000</td>\n",
       "      <td>NaN</td>\n",
       "      <td>NaN</td>\n",
       "      <td>9</td>\n",
       "      <td>14.000</td>\n",
       "      <td>0</td>\n",
       "      <td>...</td>\n",
       "      <td>3.000</td>\n",
       "      <td>NaN</td>\n",
       "      <td>NaN</td>\n",
       "      <td>NaN</td>\n",
       "      <td>424.000</td>\n",
       "      <td>False</td>\n",
       "      <td>False</td>\n",
       "      <td>True</td>\n",
       "      <td>город</td>\n",
       "      <td>Санкт-Петербург</td>\n",
       "    </tr>\n",
       "    <tr>\n",
       "      <th>4</th>\n",
       "      <td>4</td>\n",
       "      <td>Санкт-Петербург</td>\n",
       "      <td>2</td>\n",
       "      <td>10000000.000</td>\n",
       "      <td>100.000</td>\n",
       "      <td>32.000</td>\n",
       "      <td>41.000</td>\n",
       "      <td>13</td>\n",
       "      <td>14.000</td>\n",
       "      <td>0</td>\n",
       "      <td>...</td>\n",
       "      <td>2.000</td>\n",
       "      <td>3.030</td>\n",
       "      <td>3.030</td>\n",
       "      <td>100.000</td>\n",
       "      <td>121.000</td>\n",
       "      <td>False</td>\n",
       "      <td>False</td>\n",
       "      <td>False</td>\n",
       "      <td>город</td>\n",
       "      <td>Санкт-Петербург</td>\n",
       "    </tr>\n",
       "    <tr>\n",
       "      <th>...</th>\n",
       "      <td>...</td>\n",
       "      <td>...</td>\n",
       "      <td>...</td>\n",
       "      <td>...</td>\n",
       "      <td>...</td>\n",
       "      <td>...</td>\n",
       "      <td>...</td>\n",
       "      <td>...</td>\n",
       "      <td>...</td>\n",
       "      <td>...</td>\n",
       "      <td>...</td>\n",
       "      <td>...</td>\n",
       "      <td>...</td>\n",
       "      <td>...</td>\n",
       "      <td>...</td>\n",
       "      <td>...</td>\n",
       "      <td>...</td>\n",
       "      <td>...</td>\n",
       "      <td>...</td>\n",
       "      <td>...</td>\n",
       "      <td>...</td>\n",
       "    </tr>\n",
       "    <tr>\n",
       "      <th>23645</th>\n",
       "      <td>23645</td>\n",
       "      <td>Санкт-Петербург</td>\n",
       "      <td>3</td>\n",
       "      <td>9700000.000</td>\n",
       "      <td>133.810</td>\n",
       "      <td>73.300</td>\n",
       "      <td>13.830</td>\n",
       "      <td>3</td>\n",
       "      <td>5.000</td>\n",
       "      <td>0</td>\n",
       "      <td>...</td>\n",
       "      <td>3.000</td>\n",
       "      <td>NaN</td>\n",
       "      <td>NaN</td>\n",
       "      <td>NaN</td>\n",
       "      <td>NaN</td>\n",
       "      <td>False</td>\n",
       "      <td>False</td>\n",
       "      <td>False</td>\n",
       "      <td>город</td>\n",
       "      <td>Санкт-Петербург</td>\n",
       "    </tr>\n",
       "    <tr>\n",
       "      <th>23646</th>\n",
       "      <td>23646</td>\n",
       "      <td>Тосно</td>\n",
       "      <td>3</td>\n",
       "      <td>3100000.000</td>\n",
       "      <td>59.000</td>\n",
       "      <td>38.000</td>\n",
       "      <td>8.500</td>\n",
       "      <td>4</td>\n",
       "      <td>5.000</td>\n",
       "      <td>0</td>\n",
       "      <td>...</td>\n",
       "      <td>3.000</td>\n",
       "      <td>NaN</td>\n",
       "      <td>NaN</td>\n",
       "      <td>59.000</td>\n",
       "      <td>45.000</td>\n",
       "      <td>False</td>\n",
       "      <td>False</td>\n",
       "      <td>False</td>\n",
       "      <td>город</td>\n",
       "      <td>Ленинградская область</td>\n",
       "    </tr>\n",
       "    <tr>\n",
       "      <th>23647</th>\n",
       "      <td>23647</td>\n",
       "      <td>село Рождествено</td>\n",
       "      <td>2</td>\n",
       "      <td>2500000.000</td>\n",
       "      <td>56.700</td>\n",
       "      <td>29.700</td>\n",
       "      <td>NaN</td>\n",
       "      <td>1</td>\n",
       "      <td>3.000</td>\n",
       "      <td>0</td>\n",
       "      <td>...</td>\n",
       "      <td>2.000</td>\n",
       "      <td>NaN</td>\n",
       "      <td>NaN</td>\n",
       "      <td>56.700</td>\n",
       "      <td>NaN</td>\n",
       "      <td>False</td>\n",
       "      <td>False</td>\n",
       "      <td>False</td>\n",
       "      <td>село</td>\n",
       "      <td>Ленинградская область</td>\n",
       "    </tr>\n",
       "    <tr>\n",
       "      <th>23648</th>\n",
       "      <td>23648</td>\n",
       "      <td>Санкт-Петербург</td>\n",
       "      <td>2</td>\n",
       "      <td>11475000.000</td>\n",
       "      <td>76.750</td>\n",
       "      <td>NaN</td>\n",
       "      <td>23.300</td>\n",
       "      <td>12</td>\n",
       "      <td>17.000</td>\n",
       "      <td>2</td>\n",
       "      <td>...</td>\n",
       "      <td>2.000</td>\n",
       "      <td>3.000</td>\n",
       "      <td>3.000</td>\n",
       "      <td>76.750</td>\n",
       "      <td>NaN</td>\n",
       "      <td>False</td>\n",
       "      <td>False</td>\n",
       "      <td>True</td>\n",
       "      <td>город</td>\n",
       "      <td>Санкт-Петербург</td>\n",
       "    </tr>\n",
       "    <tr>\n",
       "      <th>23649</th>\n",
       "      <td>23649</td>\n",
       "      <td>поселок Новый Учхоз</td>\n",
       "      <td>1</td>\n",
       "      <td>1350000.000</td>\n",
       "      <td>32.300</td>\n",
       "      <td>12.300</td>\n",
       "      <td>9.000</td>\n",
       "      <td>1</td>\n",
       "      <td>5.000</td>\n",
       "      <td>0</td>\n",
       "      <td>...</td>\n",
       "      <td>1.000</td>\n",
       "      <td>2.500</td>\n",
       "      <td>2.500</td>\n",
       "      <td>32.300</td>\n",
       "      <td>NaN</td>\n",
       "      <td>False</td>\n",
       "      <td>False</td>\n",
       "      <td>False</td>\n",
       "      <td>поселок</td>\n",
       "      <td>Ленинградская область</td>\n",
       "    </tr>\n",
       "  </tbody>\n",
       "</table>\n",
       "<p>23650 rows × 43 columns</p>\n",
       "</div>"
      ],
      "text/plain": [
       "       Unnamed: 0             locality  rooms        price  total_area  \\\n",
       "0               0      Санкт-Петербург      3 13000000.000     108.000   \n",
       "1               1       поселок Шушары      1  3350000.000      40.400   \n",
       "2               2      Санкт-Петербург      2  5196000.000      56.000   \n",
       "3               3      Санкт-Петербург      3 64900000.000     159.000   \n",
       "4               4      Санкт-Петербург      2 10000000.000     100.000   \n",
       "...           ...                  ...    ...          ...         ...   \n",
       "23645       23645      Санкт-Петербург      3  9700000.000     133.810   \n",
       "23646       23646                Тосно      3  3100000.000      59.000   \n",
       "23647       23647     село Рождествено      2  2500000.000      56.700   \n",
       "23648       23648      Санкт-Петербург      2 11475000.000      76.750   \n",
       "23649       23649  поселок Новый Учхоз      1  1350000.000      32.300   \n",
       "\n",
       "       living_area  kitchen_area  floor  floors_total  balcony  ...  \\\n",
       "0           51.000        25.000      8        16.000        0  ...   \n",
       "1           18.600        11.000      1        11.000        2  ...   \n",
       "2           34.300         8.300      4         5.000        0  ...   \n",
       "3              NaN           NaN      9        14.000        0  ...   \n",
       "4           32.000        41.000     13        14.000        0  ...   \n",
       "...            ...           ...    ...           ...      ...  ...   \n",
       "23645       73.300        13.830      3         5.000        0  ...   \n",
       "23646       38.000         8.500      4         5.000        0  ...   \n",
       "23647       29.700           NaN      1         3.000        0  ...   \n",
       "23648          NaN        23.300     12        17.000        2  ...   \n",
       "23649       12.300         9.000      1         5.000        0  ...   \n",
       "\n",
       "       new_rooms  new_ceiling_height  new_ceiling_height_try  new_total_area  \\\n",
       "0          3.000               2.700                   2.700         108.000   \n",
       "1          1.000                 NaN                     NaN          40.400   \n",
       "2          2.000                 NaN                     NaN          56.000   \n",
       "3          3.000                 NaN                     NaN             NaN   \n",
       "4          2.000               3.030                   3.030         100.000   \n",
       "...          ...                 ...                     ...             ...   \n",
       "23645      3.000                 NaN                     NaN             NaN   \n",
       "23646      3.000                 NaN                     NaN          59.000   \n",
       "23647      2.000                 NaN                     NaN          56.700   \n",
       "23648      2.000               3.000                   3.000          76.750   \n",
       "23649      1.000               2.500                   2.500          32.300   \n",
       "\n",
       "      new_days_exposition  too_fast   fast  too_slow  locality_type  \\\n",
       "0                     NaN     False  False     False          город   \n",
       "1                  81.000     False  False     False        поселок   \n",
       "2                     NaN     False  False      True          город   \n",
       "3                 424.000     False  False      True          город   \n",
       "4                 121.000     False  False     False          город   \n",
       "...                   ...       ...    ...       ...            ...   \n",
       "23645                 NaN     False  False     False          город   \n",
       "23646              45.000     False  False     False          город   \n",
       "23647                 NaN     False  False     False           село   \n",
       "23648                 NaN     False  False      True          город   \n",
       "23649                 NaN     False  False     False        поселок   \n",
       "\n",
       "                  spb_and_lr  \n",
       "0            Санкт-Петербург  \n",
       "1      Ленинградская область  \n",
       "2            Санкт-Петербург  \n",
       "3            Санкт-Петербург  \n",
       "4            Санкт-Петербург  \n",
       "...                      ...  \n",
       "23645        Санкт-Петербург  \n",
       "23646  Ленинградская область  \n",
       "23647  Ленинградская область  \n",
       "23648        Санкт-Петербург  \n",
       "23649  Ленинградская область  \n",
       "\n",
       "[23650 rows x 43 columns]"
      ]
     },
     "execution_count": 4,
     "metadata": {},
     "output_type": "execute_result"
    }
   ],
   "source": [
    "df"
   ]
  },
  {
   "cell_type": "markdown",
   "metadata": {},
   "source": [
    "Смотрим, какие колонки у нас есть"
   ]
  },
  {
   "cell_type": "code",
   "execution_count": 5,
   "metadata": {},
   "outputs": [
    {
     "name": "stdout",
     "output_type": "stream",
     "text": [
      "<class 'pandas.core.frame.DataFrame'>\n",
      "RangeIndex: 23650 entries, 0 to 23649\n",
      "Data columns (total 43 columns):\n",
      " #   Column                   Non-Null Count  Dtype  \n",
      "---  ------                   --------------  -----  \n",
      " 0   Unnamed: 0               23650 non-null  int64  \n",
      " 1   locality                 23650 non-null  object \n",
      " 2   rooms                    23650 non-null  int64  \n",
      " 3   price                    23650 non-null  float64\n",
      " 4   total_area               23650 non-null  float64\n",
      " 5   living_area              21752 non-null  float64\n",
      " 6   kitchen_area             21381 non-null  float64\n",
      " 7   floor                    23650 non-null  int64  \n",
      " 8   floors_total             23565 non-null  float64\n",
      " 9   balcony                  23650 non-null  int64  \n",
      " 10  ceiling_height           14490 non-null  float64\n",
      " 11  studio                   23650 non-null  bool   \n",
      " 12  apartment                23650 non-null  bool   \n",
      " 13  open_plan                23650 non-null  bool   \n",
      " 14  exposition_data          23650 non-null  object \n",
      " 15  center_distance_km       18139 non-null  float64\n",
      " 16  airport_distance_km      18116 non-null  float64\n",
      " 17  parks_in_3km_number      18140 non-null  float64\n",
      " 18  nearest_park_distance_m  8064 non-null   float64\n",
      " 19  ponds_in_3km_number      18140 non-null  float64\n",
      " 20  nearest_pond_distance_m  9085 non-null   float64\n",
      " 21  days_exposition          20470 non-null  float64\n",
      " 22  images                   23650 non-null  int64  \n",
      " 23  ceiling_height_try       14485 non-null  float64\n",
      " 24  price_per_m2             23650 non-null  float64\n",
      " 25  day                      23650 non-null  object \n",
      " 26  month                    23650 non-null  object \n",
      " 27  year                     23650 non-null  int64  \n",
      " 28  floor_type               23650 non-null  object \n",
      " 29  living_to_total_ratio    21752 non-null  float64\n",
      " 30  kitchen_to_total_ratio   21381 non-null  float64\n",
      " 31  new_price                21595 non-null  float64\n",
      " 32  new_price_m2             22559 non-null  float64\n",
      " 33  new_rooms                23560 non-null  float64\n",
      " 34  new_ceiling_height       13664 non-null  float64\n",
      " 35  new_ceiling_height_try   13692 non-null  float64\n",
      " 36  new_total_area           22406 non-null  float64\n",
      " 37  new_days_exposition      18796 non-null  float64\n",
      " 38  too_fast                 23650 non-null  bool   \n",
      " 39  fast                     23650 non-null  bool   \n",
      " 40  too_slow                 23650 non-null  bool   \n",
      " 41  locality_type            23650 non-null  object \n",
      " 42  spb_and_lr               23650 non-null  object \n",
      "dtypes: bool(6), float64(24), int64(6), object(7)\n",
      "memory usage: 6.8+ MB\n"
     ]
    }
   ],
   "source": [
    "df.info()"
   ]
  },
  {
   "cell_type": "markdown",
   "metadata": {},
   "source": [
    "Кодируем текстовые признаки с помощью Labelencoder и разбиваем выборку на тестовую и тренировочную\n"
   ]
  },
  {
   "cell_type": "code",
   "execution_count": 6,
   "metadata": {
    "tags": []
   },
   "outputs": [],
   "source": [
    "from sklearn.model_selection import train_test_split\n",
    "from sklearn.preprocessing import LabelEncoder"
   ]
  },
  {
   "cell_type": "code",
   "execution_count": 7,
   "metadata": {},
   "outputs": [],
   "source": [
    "# creat1ing initial dataframe\n",
    "temp_df = pd.DataFrame(df[['floor_type']])\n",
    "\n",
    "# creating instance of labelencoder\n",
    "labelencoder = LabelEncoder()\n",
    "\n",
    "# Assigning numerical values and storing in another column\n",
    "df['floor_type'] = labelencoder.fit_transform(temp_df['floor_type'])"
   ]
  },
  {
   "cell_type": "code",
   "execution_count": 8,
   "metadata": {},
   "outputs": [],
   "source": [
    "# creat1ing initial dataframe\n",
    "temp_df = pd.DataFrame(df[['spb_and_lr']])\n",
    "\n",
    "# creating instance of labelencoder\n",
    "labelencoder = LabelEncoder()\n",
    "\n",
    "# Assigning numerical values and storing in another column\n",
    "df['spb_and_lr'] = labelencoder.fit_transform(temp_df['spb_and_lr'])"
   ]
  },
  {
   "cell_type": "code",
   "execution_count": 9,
   "metadata": {},
   "outputs": [],
   "source": [
    "# creat1ing initial dataframe\n",
    "temp_df = pd.DataFrame(df[['locality']])\n",
    "\n",
    "# creating instance of labelencoder\n",
    "labelencoder = LabelEncoder()\n",
    "\n",
    "# Assigning numerical values and storing in another column\n",
    "df['locality'] = labelencoder.fit_transform(temp_df['locality'])\n"
   ]
  },
  {
   "cell_type": "code",
   "execution_count": 10,
   "metadata": {},
   "outputs": [],
   "source": [
    "# creat1ing initial dataframe\n",
    "temp_df = pd.DataFrame(df[['locality_type']])\n",
    "\n",
    "# creating instance of labelencoder\n",
    "labelencoder = LabelEncoder()\n",
    "\n",
    "# Assigning numerical values and storing in another column\n",
    "df['locality_type'] = labelencoder.fit_transform(temp_df['locality_type'])"
   ]
  },
  {
   "cell_type": "markdown",
   "metadata": {},
   "source": [
    "Выбираем те столбцы, с которыми будем работать. И далее избавляемся от nan"
   ]
  },
  {
   "cell_type": "code",
   "execution_count": 11,
   "metadata": {},
   "outputs": [],
   "source": [
    "X_temp = df[['new_price', 'locality', 'new_rooms', 'total_area', 'floor', 'floors_total', 'floor_type', 'locality_type', 'spb_and_lr', 'parks_in_3km_number', 'center_distance_km', 'airport_distance_km', 'ponds_in_3km_number']]\n",
    "X_temp = X_temp.dropna()\n",
    "\n",
    "\n",
    "#center_distance_km\n",
    "#airport_distance_km\n",
    "#parks_in_3km_number\n",
    "#nearest_park_distance_m\n",
    "#ponds_in_3km_number\n",
    "#nearest_pond_distance_m"
   ]
  },
  {
   "cell_type": "markdown",
   "metadata": {},
   "source": [
    "Выбираем из них признаки и столбец, который будем предсказывать"
   ]
  },
  {
   "cell_type": "code",
   "execution_count": 12,
   "metadata": {
    "tags": []
   },
   "outputs": [],
   "source": [
    "X = X_temp[['locality', 'new_rooms', 'total_area', 'floor', 'floors_total', 'floor_type', 'locality_type', 'spb_and_lr', 'parks_in_3km_number', 'center_distance_km', 'airport_distance_km', 'ponds_in_3km_number']]\n",
    "y = X_temp[['new_price']]"
   ]
  },
  {
   "cell_type": "markdown",
   "metadata": {},
   "source": [
    "Создаём тестовую и тренировочную выборки"
   ]
  },
  {
   "cell_type": "code",
   "execution_count": 13,
   "metadata": {},
   "outputs": [
    {
     "name": "stdout",
     "output_type": "stream",
     "text": [
      "(12828, 12)\n",
      "(3208, 12)\n",
      "(12828, 1)\n",
      "(3208, 1)\n"
     ]
    }
   ],
   "source": [
    "X_train, X_test, Y_train, Y_test = train_test_split(X, y, test_size = 0.2, random_state=42)\n",
    "\n",
    "\n",
    "# Посмотрим каков у нас оказался размер объектов в трейне и тесте\n",
    "print(X_train.shape)\n",
    "print(X_test.shape)\n",
    "print(Y_train.shape)\n",
    "print(Y_test.shape)\n"
   ]
  },
  {
   "cell_type": "markdown",
   "metadata": {},
   "source": [
    "Создаём и обучаем модель"
   ]
  },
  {
   "cell_type": "code",
   "execution_count": 14,
   "metadata": {},
   "outputs": [
    {
     "data": {
      "text/plain": [
       "LinearRegression()"
      ]
     },
     "execution_count": 14,
     "metadata": {},
     "output_type": "execute_result"
    }
   ],
   "source": [
    "lin_model = LinearRegression()\n",
    "lin_model.fit(X_train, Y_train)"
   ]
  },
  {
   "cell_type": "code",
   "execution_count": 15,
   "metadata": {},
   "outputs": [
    {
     "name": "stdout",
     "output_type": "stream",
     "text": [
      "[[    8244.39265448  -450362.52809194    95493.85869002    19056.92472264\n",
      "     19695.91021179  -123667.96569638 -1542051.95959614  -934932.0973891\n",
      "     64966.99268662   -80287.68267715     6994.28045874    99410.78500643]]\n"
     ]
    }
   ],
   "source": [
    "# посмотрим, какие из наших признаков оказались наиболее значимыми для определения цены на квартиру\n",
    "importance = lin_model.coef_\n",
    "\n",
    "print(importance)"
   ]
  },
  {
   "cell_type": "markdown",
   "metadata": {},
   "source": [
    "Импортируем штуки для подсчёта ошибки"
   ]
  },
  {
   "cell_type": "code",
   "execution_count": 16,
   "metadata": {
    "tags": []
   },
   "outputs": [],
   "source": [
    "from sklearn.metrics import mean_squared_error\n",
    "from sklearn.metrics import r2_score"
   ]
  },
  {
   "cell_type": "code",
   "execution_count": 17,
   "metadata": {
    "tags": []
   },
   "outputs": [],
   "source": [
    "# Определим функцию оценки ошибки получившейся модели:\n",
    "\n",
    "def model_assess(lin_model, X_train, X_test, Y_train, Y_test):\n",
    "\n",
    "    # model evaluation for training set\n",
    "    y_train_predict = lin_model.predict(X_train)\n",
    "    rmse = (np.sqrt(mean_squared_error(Y_train, y_train_predict)))\n",
    "    r2 = r2_score(Y_train, y_train_predict)\n",
    "\n",
    "    \n",
    "    print(\"\\n\")\n",
    "    print(\"The model performance for training set\")\n",
    "    print(\"--------------------------------------\")\n",
    "    print('RMSE is {}'.format(rmse))\n",
    "    print('R2 score is {}'.format(r2))\n",
    "    print(\"--------------------------------------\")\n",
    "    print(\"\\n\")\n",
    "\n",
    "    \n",
    "    # model evaluation for testing set\n",
    "    y_test_predict = lin_model.predict(X_test)\n",
    "    rmse = (np.sqrt(mean_squared_error(Y_test, y_test_predict)))\n",
    "    r2 = r2_score(Y_test, y_test_predict)\n",
    "\n",
    "    print(\"The model performance for testing set\")\n",
    "    print(\"--------------------------------------\")\n",
    "    print('RMSE is {}'.format(rmse))\n",
    "    print('R2 score is {}'.format(r2))"
   ]
  },
  {
   "cell_type": "code",
   "execution_count": 18,
   "metadata": {},
   "outputs": [
    {
     "name": "stdout",
     "output_type": "stream",
     "text": [
      "\n",
      "\n",
      "The model performance for training set\n",
      "--------------------------------------\n",
      "RMSE is 1115580.9176451312\n",
      "R2 score is 0.712433833867945\n",
      "--------------------------------------\n",
      "\n",
      "\n",
      "The model performance for testing set\n",
      "--------------------------------------\n",
      "RMSE is 1121905.2012119235\n",
      "R2 score is 0.7109022739909296\n"
     ]
    }
   ],
   "source": [
    "model_assess(lin_model, X_train, X_test, Y_train, Y_test)"
   ]
  },
  {
   "cell_type": "markdown",
   "metadata": {},
   "source": [
    "Смотрим самые значимые фичи "
   ]
  },
  {
   "cell_type": "code",
   "execution_count": 19,
   "metadata": {},
   "outputs": [
    {
     "name": "stdout",
     "output_type": "stream",
     "text": [
      "Feature: locality, Score: -1542051.95960\n",
      "Feature: new_rooms, Score: -934932.09739\n",
      "Feature: total_area, Score: -450362.52809\n",
      "Feature: floor, Score: -123667.96570\n",
      "Feature: floors_total, Score: -80287.68268\n",
      "Feature: floor_type, Score: 6994.28046\n",
      "Feature: locality_type, Score: 8244.39265\n",
      "Feature: spb_and_lr, Score: 19056.92472\n",
      "Feature: parks_in_3km_number, Score: 19695.91021\n",
      "Feature: center_distance_km, Score: 64966.99269\n",
      "Feature: airport_distance_km, Score: 95493.85869\n",
      "Feature: ponds_in_3km_number, Score: 99410.78501\n"
     ]
    }
   ],
   "source": [
    "importance = lin_model.coef_[0]\n",
    "importance = sorted(importance)\n",
    "for i, v in enumerate(importance):\n",
    "    print('Feature: %s, Score: %.5f' % (X.columns[i],v))\n"
   ]
  },
  {
   "cell_type": "markdown",
   "metadata": {},
   "source": []
  },
  {
   "cell_type": "code",
   "execution_count": 20,
   "metadata": {
    "tags": []
   },
   "outputs": [],
   "source": [
    "from sklearn.preprocessing import MinMaxScaler"
   ]
  },
  {
   "cell_type": "code",
   "execution_count": 21,
   "metadata": {
    "tags": []
   },
   "outputs": [],
   "source": [
    "def scaling(df):\n",
    "    scaler = MinMaxScaler() \n",
    "    data_scaled = scaler.fit_transform(df)\n",
    "    df_scaled = pd.DataFrame(data_scaled)\n",
    "    return df_scaled"
   ]
  },
  {
   "cell_type": "code",
   "execution_count": 22,
   "metadata": {},
   "outputs": [
    {
     "name": "stdout",
     "output_type": "stream",
     "text": [
      "[[ 2094075.73423862 -2702175.16855162 16997906.84682298   609821.59112449\n",
      "   1162058.70249528  -247335.93139276 -3084103.91919227  -934932.0973891\n",
      "    194900.97805986 -5279718.01284927   593597.58825285   298232.35501929]]\n"
     ]
    }
   ],
   "source": [
    "X_scaled = scaling(X)\n",
    "\n",
    "X_train, X_test, Y_train, Y_test = train_test_split(X_scaled, y, test_size = 0.2, random_state=42)\n",
    "\n",
    "lin_model = LinearRegression()\n",
    "lin_model.fit(X_train, Y_train)\n",
    "\n",
    "importance = lin_model.coef_\n",
    "print(importance)"
   ]
  },
  {
   "cell_type": "markdown",
   "metadata": {},
   "source": [
    "Как видим, значения фич изменились, но сама модель особо не изменилась"
   ]
  },
  {
   "cell_type": "code",
   "execution_count": 23,
   "metadata": {},
   "outputs": [
    {
     "name": "stdout",
     "output_type": "stream",
     "text": [
      "Feature: locality, Score: -5279718.01285\n",
      "Feature: new_rooms, Score: -3084103.91919\n",
      "Feature: total_area, Score: -2702175.16855\n",
      "Feature: floor, Score: -934932.09739\n",
      "Feature: floors_total, Score: -247335.93139\n",
      "Feature: floor_type, Score: 194900.97806\n",
      "Feature: locality_type, Score: 298232.35502\n",
      "Feature: spb_and_lr, Score: 593597.58825\n",
      "Feature: parks_in_3km_number, Score: 609821.59112\n",
      "Feature: center_distance_km, Score: 1162058.70250\n",
      "Feature: airport_distance_km, Score: 2094075.73424\n",
      "Feature: ponds_in_3km_number, Score: 16997906.84682\n"
     ]
    }
   ],
   "source": [
    "importance = lin_model.coef_[0]\n",
    "importance = sorted(importance)\n",
    "for i, v in enumerate(importance):\n",
    "    print('Feature: %s, Score: %.5f' % (X.columns[i],v))\n"
   ]
  },
  {
   "cell_type": "code",
   "execution_count": 24,
   "metadata": {},
   "outputs": [
    {
     "name": "stdout",
     "output_type": "stream",
     "text": [
      "\n",
      "\n",
      "The model performance for training set\n",
      "--------------------------------------\n",
      "RMSE is 1115580.9176451312\n",
      "R2 score is 0.712433833867945\n",
      "--------------------------------------\n",
      "\n",
      "\n",
      "The model performance for testing set\n",
      "--------------------------------------\n",
      "RMSE is 1121905.201211924\n",
      "R2 score is 0.7109022739909294\n"
     ]
    }
   ],
   "source": [
    "model_assess(lin_model, X_train, X_test, Y_train, Y_test)"
   ]
  },
  {
   "cell_type": "markdown",
   "metadata": {},
   "source": [
    "Пробуем новый алгоритм"
   ]
  },
  {
   "cell_type": "code",
   "execution_count": 25,
   "metadata": {},
   "outputs": [
    {
     "name": "stdout",
     "output_type": "stream",
     "text": [
      "[  -3677.96858778 -170892.09328573   85747.24941514   17181.41407183\n",
      "   23452.96029302  -55003.19877485   -6935.7443967   -43744.70474058\n",
      "   59354.18402959  -58756.84025414    4663.66497595   84817.71726489]\n",
      "\n",
      "\n",
      "The model performance for training set\n",
      "--------------------------------------\n",
      "RMSE is 1138814.1217186244\n",
      "R2 score is 0.7003313430772117\n",
      "--------------------------------------\n",
      "\n",
      "\n",
      "The model performance for testing set\n",
      "--------------------------------------\n",
      "RMSE is 1140932.686383063\n",
      "R2 score is 0.7010129367649098\n"
     ]
    }
   ],
   "source": [
    "X_train, X_test, Y_train, Y_test = train_test_split(X, y, test_size = 0.2, random_state=42)\n",
    "\n",
    "lin_model_1 = ElasticNet()\n",
    "lin_model_1.fit(X_train, Y_train)\n",
    "\n",
    "importance = lin_model_1.coef_\n",
    "print(importance)\n",
    "model_assess(lin_model_1, X_train, X_test, Y_train, Y_test)"
   ]
  },
  {
   "cell_type": "code",
   "execution_count": 26,
   "metadata": {},
   "outputs": [
    {
     "name": "stdout",
     "output_type": "stream",
     "text": [
      "Feature: locality, Score: -170892.09329\n",
      "Feature: new_rooms, Score: -58756.84025\n",
      "Feature: total_area, Score: -55003.19877\n",
      "Feature: floor, Score: -43744.70474\n",
      "Feature: floors_total, Score: -6935.74440\n",
      "Feature: floor_type, Score: -3677.96859\n",
      "Feature: locality_type, Score: 4663.66498\n",
      "Feature: spb_and_lr, Score: 17181.41407\n",
      "Feature: parks_in_3km_number, Score: 23452.96029\n",
      "Feature: center_distance_km, Score: 59354.18403\n",
      "Feature: airport_distance_km, Score: 84817.71726\n",
      "Feature: ponds_in_3km_number, Score: 85747.24942\n"
     ]
    }
   ],
   "source": [
    "importance = lin_model_1.coef_\n",
    "importance = sorted(importance)\n",
    "for i, v in enumerate(importance):\n",
    "    print('Feature: %s, Score: %.5f' % (X.columns[i],v))\n"
   ]
  },
  {
   "cell_type": "markdown",
   "metadata": {},
   "source": [
    "ВЫВОД: В итоге удалось получить результат RMSE is 1140932,R2 score is 0.701 для тестовой выборки. Наиболее значимые признаки оказались lacality, new rooms, center distance,airport distance. На основе этих данных можно сделать вывод, что стоимость квартиры в большей степени зависит от расположения, количества квартир, расстояния до аэропорта.\n"
   ]
  },
  {
   "cell_type": "code",
   "execution_count": null,
   "metadata": {},
   "outputs": [],
   "source": []
  },
  {
   "cell_type": "code",
   "execution_count": null,
   "metadata": {},
   "outputs": [],
   "source": []
  }
 ],
 "metadata": {
  "kernelspec": {
   "display_name": "Python 3",
   "language": "python",
   "name": "python3"
  },
  "language_info": {
   "codemirror_mode": {
    "name": "ipython",
    "version": 3
   },
   "file_extension": ".py",
   "mimetype": "text/x-python",
   "name": "python",
   "nbconvert_exporter": "python",
   "pygments_lexer": "ipython3",
   "version": "3.8.8"
  }
 },
 "nbformat": 4,
 "nbformat_minor": 4
}
